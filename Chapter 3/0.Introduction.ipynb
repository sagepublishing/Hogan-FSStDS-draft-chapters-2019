{
 "cells": [
  {
   "cell_type": "markdown",
   "metadata": {},
   "source": [
    "# Importing Data to a DataFrame"
   ]
  },
  {
   "cell_type": "markdown",
   "metadata": {},
   "source": [
    "In this chapter we will be covering file formats. Data comes to you in a variety of formats and one of the core tasks of making claims with data is transforming it from one shape or type to another. It's impossible to cover all file formats or even a fraction of the possible shapes or types. Yet, below are a pretty standard ensemble of file formats. Hopefully, as you become increasingly confident in data wrangling you will see how you can manage other kinds of data having been inspired here. \n",
    "\n",
    "The first type of data is JSON. It's the closest to data as it would be stored in Python lists and dictionaries. So it's not that far a file format from some of the Python basics. The next is HTML and XML. These are certainly different from Python but they should be pretty well structured. Then we move on to CSV, which seems like it should be straightforward but due to the many inconsistencies between implementations, it can be a bit of a grab bag. Next, we will look at Excel. This is actually an XML file in disguise, but we will abstract away from those details by using built-in methods in Python to import it and turn it into a DataFrame. In each case we will use examples of data that you can collect from the web and show how to import it into a DataFrame. However, for this book we have put together permissions for these data so that they can be housed on our GitHub site. "
   ]
  },
  {
   "cell_type": "markdown",
   "metadata": {},
   "source": [
    "## Before we continue, a word on file organisation\n",
    " \n",
    "In this book and in the exercises I tend to have the data in a separate file from the code. Now historically, operating systems would use a slash to create the directory structure, such as ```/user/Bernie/Documents/Book```. Unfortunately, Windows and Mac/Linux have different ways of using slash. For \\*Nix systems, which includes UNIX, Linux, MacOS, the directory separator is \"/\" whereas for Windows it is \"\\\\\". The way around this in Python is to use the ```os``` library (which stands for Operating System) and then use the ```os.sep``` variable. This will make sure that it works regardless of operating system. For example:  ```filein = open(\"..{0}Data{0}test.txt\".format(os.sep))``` is a platform agnostic way of writing ```filein = open(\"../Data/test.txt\")```. "
   ]
  },
  {
   "cell_type": "markdown",
   "metadata": {},
   "source": [
    "At first, you might think it is simpler to dump all of the data in the folder with the Jupyter notebooks. However, what happens when you are using the same data in multiple notebooks or across multiple chapters? Keeping your data in its own folder helps to keep your code and your analysis organised. I tend to adopt a strategy of having separate folders for: \n",
    "- Code\n",
    "- Data\n",
    "- Output\n",
    "- Writing\n",
    "- Other\n",
    "\n",
    "In the chapters that follow I will often write my code to read in files from a ```Data``` directory that is on the same level as the chapter folders, so wherever we are, you will see \"..\" (meaning move up a directory) followed by ```os.sep``` (meaning slash), Data, slash, and the name of the data set. I encourage you do to the same with your code. You will know it works when the following snippet will run without errors: "
   ]
  },
  {
   "cell_type": "code",
   "execution_count": 6,
   "metadata": {},
   "outputs": [
    {
     "name": "stdout",
     "output_type": "stream",
     "text": [
      "ooops I did it again.\n"
     ]
    }
   ],
   "source": [
    "import os \n",
    "filein = open(\"..{0}Data{0}test.txt\".format(os.sep))\n",
    "print(filein.read())"
   ]
  },
  {
   "cell_type": "code",
   "execution_count": null,
   "metadata": {},
   "outputs": [],
   "source": []
  }
 ],
 "metadata": {
  "kernelspec": {
   "display_name": "Python 3",
   "language": "python",
   "name": "python3"
  },
  "language_info": {
   "codemirror_mode": {
    "name": "ipython",
    "version": 3
   },
   "file_extension": ".py",
   "mimetype": "text/x-python",
   "name": "python",
   "nbconvert_exporter": "python",
   "pygments_lexer": "ipython3",
   "version": "3.7.3"
  }
 },
 "nbformat": 4,
 "nbformat_minor": 4
}
