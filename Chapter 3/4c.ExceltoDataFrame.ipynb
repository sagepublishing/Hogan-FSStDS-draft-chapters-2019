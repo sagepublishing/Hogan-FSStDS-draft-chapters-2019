{
 "cells": [
  {
   "cell_type": "markdown",
   "metadata": {},
   "source": [
    "# Excel \n",
    "\n",
    "Excel is the popular spreadsheet program from Microsoft. Files can be stored as either ```.xls``` or ```.xlsx```. The original ```.xls``` is a bytestream proprietary file format, but the details are handled by PANDAS. The second one was published as an open standard and is in fact a wrapper over a specific format of XML.  \n",
    "\n",
    "In general, we simply want to import a sheet with:\n",
    "\n",
    "~~~ python \n",
    "<sheet> = pd.read_excel(<file_path>) \n",
    "~~~\n",
    "\n",
    "However, I strongly encourage you to check with the documentation. See: https://pandas.pydata.org/pandas-docs/stable/generated/pandas.read_excel.html\n",
    "You can also see in this document the trials with trying to remember function names. They've deprecated the 'sheetname' argument, to use 'sheet_name' whereas 'skip_footer' has been deprecated to use 'skipfooter'. So there are many useful arguments there, but they will need a little patience for complicated sheets. \n",
    "\n",
    "Excel documents can be pretty complex. Pandas will read the first sheet, but not the others unless specified. It also is not great with headers as can be seen in the worksheet examples. Your mileage may vary, so remember __data skepticism__. Review your data and check it thoroughly before working with it."
   ]
  },
  {
   "cell_type": "code",
   "execution_count": 3,
   "metadata": {},
   "outputs": [
    {
     "data": {
      "text/html": [
       "<div>\n",
       "<style scoped>\n",
       "    .dataframe tbody tr th:only-of-type {\n",
       "        vertical-align: middle;\n",
       "    }\n",
       "\n",
       "    .dataframe tbody tr th {\n",
       "        vertical-align: top;\n",
       "    }\n",
       "\n",
       "    .dataframe thead th {\n",
       "        text-align: right;\n",
       "    }\n",
       "</style>\n",
       "<table border=\"1\" class=\"dataframe\">\n",
       "  <thead>\n",
       "    <tr style=\"text-align: right;\">\n",
       "      <th></th>\n",
       "      <th>NameGender</th>\n",
       "      <th>Species</th>\n",
       "      <th>First</th>\n",
       "      <th>Appearance</th>\n",
       "    </tr>\n",
       "  </thead>\n",
       "  <tbody>\n",
       "    <tr>\n",
       "      <th>0</th>\n",
       "      <td>Fozzie</td>\n",
       "      <td>Male</td>\n",
       "      <td>Bear</td>\n",
       "      <td>1976</td>\n",
       "    </tr>\n",
       "    <tr>\n",
       "      <th>1</th>\n",
       "      <td>Kermit</td>\n",
       "      <td>Male</td>\n",
       "      <td>Frog</td>\n",
       "      <td>1955</td>\n",
       "    </tr>\n",
       "    <tr>\n",
       "      <th>2</th>\n",
       "      <td>Piggy</td>\n",
       "      <td>Female</td>\n",
       "      <td>Pig</td>\n",
       "      <td>1974</td>\n",
       "    </tr>\n",
       "    <tr>\n",
       "      <th>3</th>\n",
       "      <td>Gonzo</td>\n",
       "      <td>Male</td>\n",
       "      <td>Unknown</td>\n",
       "      <td>1970</td>\n",
       "    </tr>\n",
       "    <tr>\n",
       "      <th>4</th>\n",
       "      <td>Rowlf</td>\n",
       "      <td>Male</td>\n",
       "      <td>Dog</td>\n",
       "      <td>1962</td>\n",
       "    </tr>\n",
       "    <tr>\n",
       "      <th>5</th>\n",
       "      <td>Beaker</td>\n",
       "      <td>Male</td>\n",
       "      <td>Muppet</td>\n",
       "      <td>1977</td>\n",
       "    </tr>\n",
       "    <tr>\n",
       "      <th>6</th>\n",
       "      <td>Janice</td>\n",
       "      <td>Female</td>\n",
       "      <td>Muppet</td>\n",
       "      <td>1975</td>\n",
       "    </tr>\n",
       "    <tr>\n",
       "      <th>7</th>\n",
       "      <td>Hilda</td>\n",
       "      <td>Female</td>\n",
       "      <td>Muppet</td>\n",
       "      <td>1976</td>\n",
       "    </tr>\n",
       "  </tbody>\n",
       "</table>\n",
       "</div>"
      ],
      "text/plain": [
       "  NameGender Species    First  Appearance\n",
       "0     Fozzie    Male     Bear        1976\n",
       "1     Kermit    Male     Frog        1955\n",
       "2      Piggy  Female      Pig        1974\n",
       "3      Gonzo    Male  Unknown        1970\n",
       "4      Rowlf    Male      Dog        1962\n",
       "5     Beaker    Male   Muppet        1977\n",
       "6     Janice  Female   Muppet        1975\n",
       "7      Hilda  Female   Muppet        1976"
      ]
     },
     "metadata": {},
     "output_type": "display_data"
    }
   ],
   "source": [
    "import pandas as pd, os \n",
    "\n",
    "mt = pd.read_excel(\"..{0}Data{0}MuppetsTable.xlsx\".format(os.sep))\n",
    "display(mt)"
   ]
  },
  {
   "cell_type": "code",
   "execution_count": null,
   "metadata": {},
   "outputs": [],
   "source": []
  }
 ],
 "metadata": {
  "kernelspec": {
   "display_name": "Python 3",
   "language": "python",
   "name": "python3"
  },
  "language_info": {
   "codemirror_mode": {
    "name": "ipython",
    "version": 3
   },
   "file_extension": ".py",
   "mimetype": "text/x-python",
   "name": "python",
   "nbconvert_exporter": "python",
   "pygments_lexer": "ipython3",
   "version": "3.7.3"
  }
 },
 "nbformat": 4,
 "nbformat_minor": 4
}
