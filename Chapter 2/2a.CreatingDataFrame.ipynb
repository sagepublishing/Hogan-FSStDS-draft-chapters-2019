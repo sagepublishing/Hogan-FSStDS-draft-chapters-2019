{
 "cells": [
  {
   "cell_type": "markdown",
   "metadata": {
    "toc-hr-collapsed": true
   },
   "source": [
    "# Introducing The Table for Scientific Python: The DataFrame\n",
    "\n",
    "A series is a flexible tool for managing a single distribution with an index. The index can be either the default sequence of numbers starting from zero, or it can be a list of labels. If we have two Series, each with the same index, we can combine them together. This will create a DataFrame. Depending on the nature of the research we will either be building a DataFrame by merging together series one by one or we will import a DataFrame from another context, be it a text file, a webpage or some other file format. In this section, we will be building small DataFrames from scratch in order to demonstrate their features and highlight the similarities and differences to these operations when done on a Series. In the next chapter we will show how to create a DataFrame from existing file formats."
   ]
  },
  {
   "cell_type": "markdown",
   "metadata": {},
   "source": [
    "## From a Series to a DataFrame\n",
    "\n",
    "A DataFrame with one column of data looks very similar to a Series. However, the DataFrame comes with some extra features. Not the least of which is that when you ```display()``` a DataFrame, you get a nice looking HTML-formatted table. Observe the difference below: "
   ]
  },
  {
   "cell_type": "code",
   "execution_count": 2,
   "metadata": {},
   "outputs": [
    {
     "data": {
      "text/plain": [
       "Kermit     Frog\n",
       "Fozzie     Bear\n",
       "Janice    Hippy\n",
       "dtype: object"
      ]
     },
     "metadata": {},
     "output_type": "display_data"
    },
    {
     "data": {
      "text/html": [
       "<div>\n",
       "<style scoped>\n",
       "    .dataframe tbody tr th:only-of-type {\n",
       "        vertical-align: middle;\n",
       "    }\n",
       "\n",
       "    .dataframe tbody tr th {\n",
       "        vertical-align: top;\n",
       "    }\n",
       "\n",
       "    .dataframe thead th {\n",
       "        text-align: right;\n",
       "    }\n",
       "</style>\n",
       "<table border=\"1\" class=\"dataframe\">\n",
       "  <thead>\n",
       "    <tr style=\"text-align: right;\">\n",
       "      <th></th>\n",
       "      <th>0</th>\n",
       "    </tr>\n",
       "  </thead>\n",
       "  <tbody>\n",
       "    <tr>\n",
       "      <th>Kermit</th>\n",
       "      <td>Frog</td>\n",
       "    </tr>\n",
       "    <tr>\n",
       "      <th>Fozzie</th>\n",
       "      <td>Bear</td>\n",
       "    </tr>\n",
       "    <tr>\n",
       "      <th>Janice</th>\n",
       "      <td>Hippy</td>\n",
       "    </tr>\n",
       "  </tbody>\n",
       "</table>\n",
       "</div>"
      ],
      "text/plain": [
       "            0\n",
       "Kermit   Frog\n",
       "Fozzie   Bear\n",
       "Janice  Hippy"
      ]
     },
     "metadata": {},
     "output_type": "display_data"
    }
   ],
   "source": [
    "import pandas as pd \n",
    "\n",
    "ser1 = pd.Series({\"Kermit\":\"Frog\", \"Fozzie\":\"Bear\", \"Janice\":\"Hippy\"})\n",
    "\n",
    "display(ser1)\n",
    "\n",
    "df1 = pd.DataFrame(ser1)\n",
    "\n",
    "display(df1)"
   ]
  },
  {
   "cell_type": "markdown",
   "metadata": {},
   "source": [
    "Notice that the output from the second display command had the words 'Kermit', 'Fozzie', and 'Janice' in bold, with some text shading. This is a feature of Jupyter that means we can view DataFrames as rich tables. This will be very useful when we have large and complex tables. Viewing them in monospace text like what we do with the Series makes it harder to read. \n",
    "\n",
    "You might also notice that above 'frog' in the table is the number $0$. This is just the index of that column since we did not name the column. In our case we have two options. We could have named the Series, which will propagate the name to the DataFrame, or we can just name the columns in the DataFrame. Observe the same code, but this time we will name the Series first. Then below that we will change the name of the DataFrame column to something else: "
   ]
  },
  {
   "cell_type": "code",
   "execution_count": 3,
   "metadata": {},
   "outputs": [
    {
     "data": {
      "text/html": [
       "<div>\n",
       "<style scoped>\n",
       "    .dataframe tbody tr th:only-of-type {\n",
       "        vertical-align: middle;\n",
       "    }\n",
       "\n",
       "    .dataframe tbody tr th {\n",
       "        vertical-align: top;\n",
       "    }\n",
       "\n",
       "    .dataframe thead th {\n",
       "        text-align: right;\n",
       "    }\n",
       "</style>\n",
       "<table border=\"1\" class=\"dataframe\">\n",
       "  <thead>\n",
       "    <tr style=\"text-align: right;\">\n",
       "      <th></th>\n",
       "      <th>MuppetType</th>\n",
       "    </tr>\n",
       "  </thead>\n",
       "  <tbody>\n",
       "    <tr>\n",
       "      <th>Kermit</th>\n",
       "      <td>Frog</td>\n",
       "    </tr>\n",
       "    <tr>\n",
       "      <th>Fozzie</th>\n",
       "      <td>Bear</td>\n",
       "    </tr>\n",
       "    <tr>\n",
       "      <th>Janice</th>\n",
       "      <td>Hippy</td>\n",
       "    </tr>\n",
       "  </tbody>\n",
       "</table>\n",
       "</div>"
      ],
      "text/plain": [
       "       MuppetType\n",
       "Kermit       Frog\n",
       "Fozzie       Bear\n",
       "Janice      Hippy"
      ]
     },
     "metadata": {},
     "output_type": "display_data"
    },
    {
     "data": {
      "text/html": [
       "<div>\n",
       "<style scoped>\n",
       "    .dataframe tbody tr th:only-of-type {\n",
       "        vertical-align: middle;\n",
       "    }\n",
       "\n",
       "    .dataframe tbody tr th {\n",
       "        vertical-align: top;\n",
       "    }\n",
       "\n",
       "    .dataframe thead th {\n",
       "        text-align: right;\n",
       "    }\n",
       "</style>\n",
       "<table border=\"1\" class=\"dataframe\">\n",
       "  <thead>\n",
       "    <tr style=\"text-align: right;\">\n",
       "      <th></th>\n",
       "      <th>NewColumnName</th>\n",
       "    </tr>\n",
       "  </thead>\n",
       "  <tbody>\n",
       "    <tr>\n",
       "      <th>Kermit</th>\n",
       "      <td>Frog</td>\n",
       "    </tr>\n",
       "    <tr>\n",
       "      <th>Fozzie</th>\n",
       "      <td>Bear</td>\n",
       "    </tr>\n",
       "    <tr>\n",
       "      <th>Janice</th>\n",
       "      <td>Hippy</td>\n",
       "    </tr>\n",
       "  </tbody>\n",
       "</table>\n",
       "</div>"
      ],
      "text/plain": [
       "       NewColumnName\n",
       "Kermit          Frog\n",
       "Fozzie          Bear\n",
       "Janice         Hippy"
      ]
     },
     "metadata": {},
     "output_type": "display_data"
    }
   ],
   "source": [
    "ser1 = pd.Series({\"Kermit\":\"Frog\", \"Fozzie\":\"Bear\", \"Janice\":\"Hippy\"}, name=\"MuppetType\")\n",
    "\n",
    "df1 = pd.DataFrame(ser1)\n",
    "\n",
    "display(df1)\n",
    "\n",
    "df1.columns = [\"NewColumnName\"]\n",
    "\n",
    "display(df1)"
   ]
  },
  {
   "cell_type": "markdown",
   "metadata": {
    "toc-hr-collapsed": true
   },
   "source": [
    "# Getting Data in to a DataFrames \n",
    "\n",
    "Up to this point we have only seen DataFrames that look like nicely formatted Series. However, it is important for us to be able to compare multiple columns of data. To get these multiple columns of data, here are a few approaches:\n",
    "\n",
    "1. From a list of lists (or equivalently, an Array),\n",
    "2. From a dictionary where the keys are indices and the values are lists of data,\n",
    "3. By adding a new series to an existing DataFrame . \n",
    "\n",
    "These different ways of building DataFrames will form the basis of a great deal of your work in data science. As you will see later, data comes in a variety of formats, but we need to transform the data into a consistent and workable format for analysis. Thus, getting this data into a DataFrame will be of central importance. Although there are many possible ways to create a DataFrame, they essentially are variants on these three: from a list of lists, from an existing DataFrame/Series, from a Dictionary. \n",
    "\n",
    "For the uninitiated, you might wonder what is the advantage of doing this over just typing in data in Excel or a similar spreadsheet program? Returning to the discussion in Chapter 1 about fixed versus marginal costs, it will become evident through working with data that while spreadsheets have a very low fixed cost (since you just load them up and start typing in data), they have a very high marginal cost, since every operation and new data point can involve lots of clicking, saving, and typing. We want to avoid marginal costs (where each new row or line of data takes up our time) so that we can more effectively scale from three or four rows up to three or four thousand (or million) rows. \n",
    "\n",
    "To create these multi-column DataFrames we will continue to use information about some of the Muppets we have already mentioned. This time, in addition to the 'type of muppet', we will add a column about their first apperance as well as well as their gender. "
   ]
  },
  {
   "cell_type": "markdown",
   "metadata": {},
   "source": [
    "## From a List of Lists\n",
    "The way to create this data depends largely on how the data was initially formatted. For example, in a list of lists, it might look something like this: "
   ]
  },
  {
   "cell_type": "code",
   "execution_count": 17,
   "metadata": {},
   "outputs": [
    {
     "data": {
      "text/html": [
       "<div>\n",
       "<style scoped>\n",
       "    .dataframe tbody tr th:only-of-type {\n",
       "        vertical-align: middle;\n",
       "    }\n",
       "\n",
       "    .dataframe tbody tr th {\n",
       "        vertical-align: top;\n",
       "    }\n",
       "\n",
       "    .dataframe thead th {\n",
       "        text-align: right;\n",
       "    }\n",
       "</style>\n",
       "<table border=\"1\" class=\"dataframe\">\n",
       "  <thead>\n",
       "    <tr style=\"text-align: right;\">\n",
       "      <th></th>\n",
       "      <th>0</th>\n",
       "      <th>1</th>\n",
       "      <th>2</th>\n",
       "      <th>3</th>\n",
       "    </tr>\n",
       "  </thead>\n",
       "  <tbody>\n",
       "    <tr>\n",
       "      <th>0</th>\n",
       "      <td>Kermit</td>\n",
       "      <td>Frog</td>\n",
       "      <td>1955</td>\n",
       "      <td>Male</td>\n",
       "    </tr>\n",
       "    <tr>\n",
       "      <th>1</th>\n",
       "      <td>Miss Piggy</td>\n",
       "      <td>Pig</td>\n",
       "      <td>1974</td>\n",
       "      <td>Female</td>\n",
       "    </tr>\n",
       "    <tr>\n",
       "      <th>2</th>\n",
       "      <td>Gonzo</td>\n",
       "      <td>Unknown</td>\n",
       "      <td>1970</td>\n",
       "      <td>Male</td>\n",
       "    </tr>\n",
       "  </tbody>\n",
       "</table>\n",
       "</div>"
      ],
      "text/plain": [
       "            0        1     2       3\n",
       "0      Kermit     Frog  1955    Male\n",
       "1  Miss Piggy      Pig  1974  Female\n",
       "2       Gonzo  Unknown  1970    Male"
      ]
     },
     "metadata": {},
     "output_type": "display_data"
    }
   ],
   "source": [
    "\n",
    "muppetList = [[\"Kermit\",\"Frog\",1955,\"Male\"], \n",
    "              [\"Miss Piggy\", \"Pig\", 1974, \"Female\"], \n",
    "              [\"Gonzo\", \"Unknown\", 1970, \"Male\"]]\n",
    "\n",
    "muppetFrame1 = pd.DataFrame(muppetList)\n",
    "display(muppetFrame1)"
   ]
  },
  {
   "cell_type": "markdown",
   "metadata": {},
   "source": [
    "As a barebones DataFrame this is okay, but we are missing the columns and labelled row indices. The column names were not in the original list so we should just add those like we did above. But what about setting the first row (the Muppet name) as the index? There are a number of ways to do this. Here I use ```DataFrame.set_index()``` to make one of the existing columns the index. Observe: "
   ]
  },
  {
   "cell_type": "code",
   "execution_count": 18,
   "metadata": {},
   "outputs": [
    {
     "data": {
      "text/html": [
       "<div>\n",
       "<style scoped>\n",
       "    .dataframe tbody tr th:only-of-type {\n",
       "        vertical-align: middle;\n",
       "    }\n",
       "\n",
       "    .dataframe tbody tr th {\n",
       "        vertical-align: top;\n",
       "    }\n",
       "\n",
       "    .dataframe thead th {\n",
       "        text-align: right;\n",
       "    }\n",
       "</style>\n",
       "<table border=\"1\" class=\"dataframe\">\n",
       "  <thead>\n",
       "    <tr style=\"text-align: right;\">\n",
       "      <th></th>\n",
       "      <th>1</th>\n",
       "      <th>2</th>\n",
       "      <th>3</th>\n",
       "    </tr>\n",
       "    <tr>\n",
       "      <th>0</th>\n",
       "      <th></th>\n",
       "      <th></th>\n",
       "      <th></th>\n",
       "    </tr>\n",
       "  </thead>\n",
       "  <tbody>\n",
       "    <tr>\n",
       "      <th>Kermit</th>\n",
       "      <td>Frog</td>\n",
       "      <td>1955</td>\n",
       "      <td>Male</td>\n",
       "    </tr>\n",
       "    <tr>\n",
       "      <th>Miss Piggy</th>\n",
       "      <td>Pig</td>\n",
       "      <td>1974</td>\n",
       "      <td>Female</td>\n",
       "    </tr>\n",
       "    <tr>\n",
       "      <th>Gonzo</th>\n",
       "      <td>Unknown</td>\n",
       "      <td>1970</td>\n",
       "      <td>Male</td>\n",
       "    </tr>\n",
       "  </tbody>\n",
       "</table>\n",
       "</div>"
      ],
      "text/plain": [
       "                  1     2       3\n",
       "0                                \n",
       "Kermit         Frog  1955    Male\n",
       "Miss Piggy      Pig  1974  Female\n",
       "Gonzo       Unknown  1970    Male"
      ]
     },
     "metadata": {},
     "output_type": "display_data"
    }
   ],
   "source": [
    "muppetFrame1.set_index(0, inplace=True)\n",
    "display(muppetFrame1)"
   ]
  },
  {
   "cell_type": "markdown",
   "metadata": {},
   "source": [
    "Notice the $0$ above 'Kermit'? That's because the index itself can have a name. In this case the column was named $0$ so that's now our index name. Index names can be useful if you have complex nested data. For example, in Chapter xx on time series, we will see how to create an index by both the month and the year, so you can query and slice data by either of these in the same DataFrame. "
   ]
  },
  {
   "cell_type": "markdown",
   "metadata": {},
   "source": [
    "So the MuppetType data was in a dictionary, then a Series, then a DataFrame. Can we skip a step and just add data to the DataFrame directly? Sometimes. There are some collection types that can be created as a DataFrame. A dictionary is one of them. However, it does not work the way a Series does. Instead you need to create a DataFrame using the ```from_dict()``` method. Observe:"
   ]
  },
  {
   "cell_type": "code",
   "execution_count": 22,
   "metadata": {},
   "outputs": [
    {
     "data": {
      "text/html": [
       "<div>\n",
       "<style scoped>\n",
       "    .dataframe tbody tr th:only-of-type {\n",
       "        vertical-align: middle;\n",
       "    }\n",
       "\n",
       "    .dataframe tbody tr th {\n",
       "        vertical-align: top;\n",
       "    }\n",
       "\n",
       "    .dataframe thead th {\n",
       "        text-align: right;\n",
       "    }\n",
       "</style>\n",
       "<table border=\"1\" class=\"dataframe\">\n",
       "  <thead>\n",
       "    <tr style=\"text-align: right;\">\n",
       "      <th></th>\n",
       "      <th>MuppetType</th>\n",
       "    </tr>\n",
       "  </thead>\n",
       "  <tbody>\n",
       "    <tr>\n",
       "      <th>Kermit</th>\n",
       "      <td>Frog</td>\n",
       "    </tr>\n",
       "    <tr>\n",
       "      <th>Fozzie</th>\n",
       "      <td>Bear</td>\n",
       "    </tr>\n",
       "    <tr>\n",
       "      <th>Janice</th>\n",
       "      <td>Hippy</td>\n",
       "    </tr>\n",
       "  </tbody>\n",
       "</table>\n",
       "</div>"
      ],
      "text/plain": [
       "       MuppetType\n",
       "Kermit       Frog\n",
       "Fozzie       Bear\n",
       "Janice      Hippy"
      ]
     },
     "metadata": {},
     "output_type": "display_data"
    }
   ],
   "source": [
    "df1 = pd.DataFrame.from_dict({\"Kermit\":\"Frog\", \"Fozzie\":\"Bear\", \"Janice\":\"Hippy\"},orient=\"index\",columns=[\"MuppetType\"])\n",
    "\n",
    "display(df1)"
   ]
  },
  {
   "cell_type": "code",
   "execution_count": 10,
   "metadata": {},
   "outputs": [
    {
     "data": {
      "text/html": [
       "<div>\n",
       "<style scoped>\n",
       "    .dataframe tbody tr th:only-of-type {\n",
       "        vertical-align: middle;\n",
       "    }\n",
       "\n",
       "    .dataframe tbody tr th {\n",
       "        vertical-align: top;\n",
       "    }\n",
       "\n",
       "    .dataframe thead th {\n",
       "        text-align: right;\n",
       "    }\n",
       "</style>\n",
       "<table border=\"1\" class=\"dataframe\">\n",
       "  <thead>\n",
       "    <tr style=\"text-align: right;\">\n",
       "      <th></th>\n",
       "      <th>Kermit</th>\n",
       "      <th>Fozzie</th>\n",
       "      <th>Janice</th>\n",
       "    </tr>\n",
       "  </thead>\n",
       "  <tbody>\n",
       "    <tr>\n",
       "      <th>0</th>\n",
       "      <td>Frog</td>\n",
       "      <td>Bear</td>\n",
       "      <td>Hippy</td>\n",
       "    </tr>\n",
       "  </tbody>\n",
       "</table>\n",
       "</div>"
      ],
      "text/plain": [
       "  Kermit Fozzie Janice\n",
       "0   Frog   Bear  Hippy"
      ]
     },
     "metadata": {},
     "output_type": "display_data"
    }
   ],
   "source": [
    "df1 = pd.DataFrame.from_dict({\"Kermit\":[\"Frog\"], \"Fozzie\":[\"Bear\"], \"Janice\":[\"Hippy\"]},orient=\"columns\")#,columns=[\"MuppetType\"])\n",
    "\n",
    "display(df1)"
   ]
  },
  {
   "cell_type": "markdown",
   "metadata": {},
   "source": [
    "## From a dictionary \n",
    "\n",
    "As noted above, to make a DataFrame from a dictionary requires you to have it structured like ```{KEY: [VALUES,..]}```. If you have just ```{KEY:SINGLE_VALUE}``` as your dictionary structure, you're better off making it a Series. Observe below how we create a Dictionay and then a DataFrame from that Dictionary:"
   ]
  },
  {
   "cell_type": "code",
   "execution_count": 23,
   "metadata": {},
   "outputs": [
    {
     "data": {
      "text/html": [
       "<div>\n",
       "<style scoped>\n",
       "    .dataframe tbody tr th:only-of-type {\n",
       "        vertical-align: middle;\n",
       "    }\n",
       "\n",
       "    .dataframe tbody tr th {\n",
       "        vertical-align: top;\n",
       "    }\n",
       "\n",
       "    .dataframe thead th {\n",
       "        text-align: right;\n",
       "    }\n",
       "</style>\n",
       "<table border=\"1\" class=\"dataframe\">\n",
       "  <thead>\n",
       "    <tr style=\"text-align: right;\">\n",
       "      <th></th>\n",
       "      <th>0</th>\n",
       "      <th>1</th>\n",
       "      <th>2</th>\n",
       "    </tr>\n",
       "  </thead>\n",
       "  <tbody>\n",
       "    <tr>\n",
       "      <th>Kermit</th>\n",
       "      <td>Frog</td>\n",
       "      <td>1955</td>\n",
       "      <td>Male</td>\n",
       "    </tr>\n",
       "    <tr>\n",
       "      <th>Miss Piggy</th>\n",
       "      <td>Pig</td>\n",
       "      <td>1974</td>\n",
       "      <td>Female</td>\n",
       "    </tr>\n",
       "    <tr>\n",
       "      <th>Gonzo</th>\n",
       "      <td>Unknown</td>\n",
       "      <td>1970</td>\n",
       "      <td>Male</td>\n",
       "    </tr>\n",
       "  </tbody>\n",
       "</table>\n",
       "</div>"
      ],
      "text/plain": [
       "                  0     1       2\n",
       "Kermit         Frog  1955    Male\n",
       "Miss Piggy      Pig  1974  Female\n",
       "Gonzo       Unknown  1970    Male"
      ]
     },
     "metadata": {},
     "output_type": "display_data"
    }
   ],
   "source": [
    "muppetDict = {\"Kermit\": [\"Frog\",1955,\"Male\"], \n",
    "              \"Miss Piggy\":[\"Pig\", 1974, \"Female\"], \n",
    "              \"Gonzo\": [\"Unknown\", 1970, \"Male\"]}\n",
    "\n",
    "muppetFrame2 = pd.DataFrame.from_dict(muppetDict,orient=\"index\")\n",
    "display(muppetFrame2)"
   ]
  },
  {
   "cell_type": "markdown",
   "metadata": {},
   "source": [
    "Notice that we used the ```from_dict()``` method instead of simply creating an instance using ```pd.DataFrame()```. "
   ]
  },
  {
   "cell_type": "markdown",
   "metadata": {},
   "source": [
    "One new argument here is ```orient=\"index\"```. This means that the keys of the dictionary are going to be the indices for the rows. Otherwise, the dictionary would be treated in the other direction. You can try yourself to do it by using ```muppetFrame2 = pd.DataFrame(muppetDict)```. You'll notice that it makes Kermit, Piggy, and Gonzo as the columns. Sometimes this is the behaviour we want, but not here. Remember: rows in cases and variables in columns. "
   ]
  },
  {
   "cell_type": "markdown",
   "metadata": {},
   "source": [
    "## By Adding a New Series to an existing DataFrame\n",
    "\n",
    "It is very common to attach new data to a DataFrame. You might be recoding a variable, getting some new calculation or just parsing the text that is already there. For example, since we have the year of the muppet's first appearance, we could create a new column for 'decade of first appearance' by doing some calculation on that year value. \n",
    "\n",
    "To note, if we want to link two DataFrames together, this is slightly more tricky and will be covered later in the section on merging in Chapter 6xx. For now we are just adding a single column or a single row to an existing DataFrame. To illustrate this, we will start with the simple DataFrame that has the Muppet name as the index and the type of character as a single column. Then we will add 'year of first appearance' first and calcuate 'decade of first appearance' second. "
   ]
  },
  {
   "cell_type": "code",
   "execution_count": 66,
   "metadata": {},
   "outputs": [
    {
     "data": {
      "text/html": [
       "<div>\n",
       "<style scoped>\n",
       "    .dataframe tbody tr th:only-of-type {\n",
       "        vertical-align: middle;\n",
       "    }\n",
       "\n",
       "    .dataframe tbody tr th {\n",
       "        vertical-align: top;\n",
       "    }\n",
       "\n",
       "    .dataframe thead th {\n",
       "        text-align: right;\n",
       "    }\n",
       "</style>\n",
       "<table border=\"1\" class=\"dataframe\">\n",
       "  <thead>\n",
       "    <tr style=\"text-align: right;\">\n",
       "      <th></th>\n",
       "      <th>MuppetType</th>\n",
       "      <th>MuppetYear</th>\n",
       "    </tr>\n",
       "  </thead>\n",
       "  <tbody>\n",
       "    <tr>\n",
       "      <th>Kermit</th>\n",
       "      <td>Frog</td>\n",
       "      <td>1955</td>\n",
       "    </tr>\n",
       "    <tr>\n",
       "      <th>Miss Piggy</th>\n",
       "      <td>Pig</td>\n",
       "      <td>1974</td>\n",
       "    </tr>\n",
       "    <tr>\n",
       "      <th>Gonzo</th>\n",
       "      <td>Unknown</td>\n",
       "      <td>1970</td>\n",
       "    </tr>\n",
       "  </tbody>\n",
       "</table>\n",
       "</div>"
      ],
      "text/plain": [
       "           MuppetType  MuppetYear\n",
       "Kermit           Frog        1955\n",
       "Miss Piggy        Pig        1974\n",
       "Gonzo         Unknown        1970"
      ]
     },
     "metadata": {},
     "output_type": "display_data"
    }
   ],
   "source": [
    "muppetFrame3 = pd.DataFrame.from_dict({\"Kermit\":\"Frog\", \"Miss Piggy\":\"Pig\", \"Gonzo\":\"Unknown\"},orient=\"index\",columns=[\"MuppetType\"])\n",
    "\n",
    "muppet_year = pd.Series({\"Gonzo\":1970,\"Kermit\":1955,\"Miss Piggy\":1974})\n",
    "\n",
    "muppetFrame3[\"MuppetYear\"] = muppet_year\n",
    "\n",
    "display(muppetFrame3)"
   ]
  },
  {
   "cell_type": "markdown",
   "metadata": {},
   "source": [
    "One of the nice things about ensuring that cases are in the rows and variables in the columns is that it makes it easy to add new variables. Also, Pandas can be pretty clever about linking the data. Notice above that we had a dictionary with Gonzo first, but the DataFrame had Kermit first? Since ```Gonzo``` was the index for both the existing DataFrame and the new Series, when they were merged the program was able to link the data together. In this case, we can think of Gonzo's name as the _key_ that links the data. Series and dictionaries have keys, but lists do not. So if you add a list to a DataFrame then it will just get added in the order that's in the list. Observe:"
   ]
  },
  {
   "cell_type": "code",
   "execution_count": 67,
   "metadata": {},
   "outputs": [
    {
     "data": {
      "text/html": [
       "<div>\n",
       "<style scoped>\n",
       "    .dataframe tbody tr th:only-of-type {\n",
       "        vertical-align: middle;\n",
       "    }\n",
       "\n",
       "    .dataframe tbody tr th {\n",
       "        vertical-align: top;\n",
       "    }\n",
       "\n",
       "    .dataframe thead th {\n",
       "        text-align: right;\n",
       "    }\n",
       "</style>\n",
       "<table border=\"1\" class=\"dataframe\">\n",
       "  <thead>\n",
       "    <tr style=\"text-align: right;\">\n",
       "      <th></th>\n",
       "      <th>MuppetType</th>\n",
       "      <th>MuppetYear</th>\n",
       "      <th>MuppetGender</th>\n",
       "    </tr>\n",
       "  </thead>\n",
       "  <tbody>\n",
       "    <tr>\n",
       "      <th>Kermit</th>\n",
       "      <td>Frog</td>\n",
       "      <td>1955</td>\n",
       "      <td>male</td>\n",
       "    </tr>\n",
       "    <tr>\n",
       "      <th>Miss Piggy</th>\n",
       "      <td>Pig</td>\n",
       "      <td>1974</td>\n",
       "      <td>female</td>\n",
       "    </tr>\n",
       "    <tr>\n",
       "      <th>Gonzo</th>\n",
       "      <td>Unknown</td>\n",
       "      <td>1970</td>\n",
       "      <td>male</td>\n",
       "    </tr>\n",
       "  </tbody>\n",
       "</table>\n",
       "</div>"
      ],
      "text/plain": [
       "           MuppetType  MuppetYear MuppetGender\n",
       "Kermit           Frog        1955         male\n",
       "Miss Piggy        Pig        1974       female\n",
       "Gonzo         Unknown        1970         male"
      ]
     },
     "metadata": {},
     "output_type": "display_data"
    }
   ],
   "source": [
    "muppet_gender = [\"male\",\"female\",\"male\"]\n",
    "\n",
    "muppetFrame3[\"MuppetGender\"] = muppet_gender\n",
    "\n",
    "display(muppetFrame3)"
   ]
  },
  {
   "cell_type": "markdown",
   "metadata": {},
   "source": [
    "Now we can start to see a pattern here of ```DataFrame[COLNAME] = column_of_data```. Let's use this to create a column from the data that is already in the DataFrame. We will take the year value, round it down to the nearest 10 years and call it ```muppet_decade```. To do this, we will use the ```map``` and ```lambda``` features that we had introduced with a series. This is because we will first query ```MuppetYear``` _as a series_, transform the series, and reinsert it into the data. Follow the code carefullly since this will all be done in one line. Observe: "
   ]
  },
  {
   "cell_type": "code",
   "execution_count": 68,
   "metadata": {},
   "outputs": [
    {
     "data": {
      "text/html": [
       "<div>\n",
       "<style scoped>\n",
       "    .dataframe tbody tr th:only-of-type {\n",
       "        vertical-align: middle;\n",
       "    }\n",
       "\n",
       "    .dataframe tbody tr th {\n",
       "        vertical-align: top;\n",
       "    }\n",
       "\n",
       "    .dataframe thead th {\n",
       "        text-align: right;\n",
       "    }\n",
       "</style>\n",
       "<table border=\"1\" class=\"dataframe\">\n",
       "  <thead>\n",
       "    <tr style=\"text-align: right;\">\n",
       "      <th></th>\n",
       "      <th>MuppetType</th>\n",
       "      <th>MuppetYear</th>\n",
       "      <th>MuppetGender</th>\n",
       "      <th>MuppetDecade</th>\n",
       "    </tr>\n",
       "  </thead>\n",
       "  <tbody>\n",
       "    <tr>\n",
       "      <th>Kermit</th>\n",
       "      <td>Frog</td>\n",
       "      <td>1955</td>\n",
       "      <td>male</td>\n",
       "      <td>1950</td>\n",
       "    </tr>\n",
       "    <tr>\n",
       "      <th>Miss Piggy</th>\n",
       "      <td>Pig</td>\n",
       "      <td>1974</td>\n",
       "      <td>female</td>\n",
       "      <td>1970</td>\n",
       "    </tr>\n",
       "    <tr>\n",
       "      <th>Gonzo</th>\n",
       "      <td>Unknown</td>\n",
       "      <td>1970</td>\n",
       "      <td>male</td>\n",
       "      <td>1970</td>\n",
       "    </tr>\n",
       "  </tbody>\n",
       "</table>\n",
       "</div>"
      ],
      "text/plain": [
       "           MuppetType  MuppetYear MuppetGender  MuppetDecade\n",
       "Kermit           Frog        1955         male          1950\n",
       "Miss Piggy        Pig        1974       female          1970\n",
       "Gonzo         Unknown        1970         male          1970"
      ]
     },
     "metadata": {},
     "output_type": "display_data"
    }
   ],
   "source": [
    "muppetFrame3[\"MuppetDecade\"] = muppetFrame3[\"MuppetYear\"].map(lambda x: (x // 10)*10)\n",
    "\n",
    "display(muppetFrame3)\n",
    "\n",
    "muppetdf = muppetFrame3 "
   ]
  },
  {
   "cell_type": "markdown",
   "metadata": {},
   "source": [
    "There are a number of ways to get an integer to round down to the nearest 10. In the way above I used 'integer division' which is division that gives a remainder rather than a precise decimal format. Then I just multiplied that by ten. So in effect, I simply removed the remainder of dividing by 10 from the year to get the decade."
   ]
  },
  {
   "cell_type": "markdown",
   "metadata": {
    "toc-hr-collapsed": true
   },
   "source": [
    "# Returning Data from a DataFrame: Querying and Slicing"
   ]
  },
  {
   "cell_type": "markdown",
   "metadata": {},
   "source": [
    "## Returning a single row or column\n",
    "To return an entire DataFrame you simply invoke its name. In our examples, ```muppetFrame3``` will return the entire DataFrame. To get a column in the data, it is like querying a list or a dictionary: you use the square ```[``` and ```]``` brackets. So if your DataFrame has a column \"MuppetType\", then the syntax ```muppetFrame3[\"MuppetType\"]``` will return the respective column as a series. \n",
    "\n",
    "It turns out the reason this works is because querying by column is the default _indexer_ for a DataFrame. When you use ```DataFrame[*]``` you are using an indexer, as opposed to using ```DataFrame(*)```, which is a method. \n",
    "\n",
    "There are different kidns of indexers for DataFrames to accomplish different goals. Two in particular are worth considering here. These are the indexers that will return a row instead of a column. Recall that each row will have both a label and a position in terms of being first, second, etc... Accordingly, one of the indexers will index by row label and the other by row position. \n",
    "\n",
    "- ```.loc[]``` returns a row based on the label of the row in the index. By default, the index is simply a list of sequential numbers, but that is merely the default. It could be anything. In our example it is the name of the Muppet. Thus,  ```muppetFrame3.loc[\"Gonzo\"]``` should return the row labelled Gonzo in the index.  \n",
    "- ```.iloc[]``` returns a row based on the position of the row in the sequence of rows in the DataFrame. Since Gonzo is in position 2 (as Python indexs from 0), muppetFrame3.iloc[2] should return the Gonzo row. \n",
    "- *Tip*: The indexer starts with ```l``` for label and starts with ```i``` for index."
   ]
  },
  {
   "cell_type": "code",
   "execution_count": 38,
   "metadata": {},
   "outputs": [
    {
     "name": "stdout",
     "output_type": "stream",
     "text": [
      "MuppetType      Unknown\n",
      "MuppetYear         1970\n",
      "MuppetGender       male\n",
      "MuppetDecade       1970\n",
      "Name: Gonzo, dtype: object\n"
     ]
    }
   ],
   "source": [
    "print(muppetdf.loc[\"Gonzo\"])"
   ]
  },
  {
   "cell_type": "code",
   "execution_count": 51,
   "metadata": {},
   "outputs": [
    {
     "name": "stdout",
     "output_type": "stream",
     "text": [
      "MuppetType      Unknown\n",
      "MuppetYear         1970\n",
      "MuppetGender       male\n",
      "MuppetDecade       1970\n",
      "Name: Gonzo, dtype: object\n"
     ]
    }
   ],
   "source": [
    "print(muppetdf.iloc[2])"
   ]
  },
  {
   "cell_type": "markdown",
   "metadata": {
    "toc-hr-collapsed": false
   },
   "source": [
    "## Returning multiple rows\n",
    "\n",
    "You can return multiple rows at once. This is handy when you want to filter and merge data. As a motivating example, imagine that you download data from _reddit_ and insert it into a table. It will have a ton of extraneous columns. The data you want to study might be a small subset of what is available. Asking for the columns you want and building your dataset from there is a prudent way to keep focused on a research question. \n",
    "\n",
    "To ask for multiple columns, you must ask for them as a collection _inside_ the indexer. This means it typically looks like square brackets inside square brackets. For example, asking for ```MuppetYear``` and ```MuppetType``` in the same query would be as ```muppetdf[ [\"MuppetYear\",\"MuppetType\"]]```. Whatever order you ask for them is the order they will be in the resulting DataFrame. "
   ]
  },
  {
   "cell_type": "markdown",
   "metadata": {},
   "source": [
    "### Returning a single element \n",
    "\n",
    "Getting a single element of a DataFrame is an extension of what we just did. Now that we have a Series (the row), we can then query for one element of that row. \n",
    "\n",
    "Notice that when we queried for ```.loc[\"Gonzo\"]```, it returned a Series corresponding to Gonzo's row in the DataFrame. Since this Series has labels (corresponding to Gonzo's values in the table)  we can then use the labels to get one element from Gonzo's row. We can also use position in the Series, which I will show afterwards. \n",
    "\n",
    "To get the year of Gonzo's first appearance, we can chain together ```muppetdf.loc[\"Gonzo\"]``` with ```[\"MuppetYear\"]```. This will then look like ```muppetdf.loc[\"Gonzo\"][\"MuppetYear\"]```. Lukcily, Pandas provides a little \"syntactic sugar\", so that you can put row then column in the same indexer like so: ```muppetdf.loc[\"Gonzo\",\"MuppetYear\"]```. Since Gonzo was in position 2 and MuppetYear is in position 1, we could also write ```muppetdf.iloc[2,1]```. Note the latter one is _iloc_ since we are using position.\n",
    "\n",
    "You might be wondering now about whether you can use ```muppetdf[\"MuppetYear\"]``` first to get the entire column and then find Gonzo in that column. You sure can, however, it is worth pointing out that this is considered bad form. Generally speaking, go rows first. It is for this reason that while you can indeed query ```muppetdf[\"MuppetYear\"][\"Gonzo\"]```, you can neither use the syntactic sugar of ```muppetdf[\"MuppetYear\",\"Gozno\"]``` nor ```muppetdf[1,2]```. It is here that we are reminded that a DataFrame is not considered a completely symmetric data structure. Rather, rows are for cases and columns are for varaibles. \n",
    "\n",
    "Of the three ways to query: ```[\"row_label\"][\"column_label\"]```, ```[\"row_label\",\"column_label\"]``` or ```[\"row_position\",\"column_position\"]```, which one would be considered the most Pythonic? Recall **FREE**. They are all functional. However, one approach is typically more robust: using labels. The labels for rows and columns should not change even if the data varies. Consequently, using labels (```.loc```) is often more robust than position (```.iloc```) since position can change with sort order. \n",
    "\n",
    "So, of ```[\"row\"][\"column\"]``` or ```[\"row\",\"column\"]``` which one would be more efficient? The second one is more efficient, because Pandas treats it as a single query. In the first instance (i.e. ```[\"row\"][\"column\"]```, you get the row as a new series, then you look inside it. In the second case, you get the row and the column in a single indexer request, no intermediary series necessary. This will not be noticable in these toy DataFrames, but when you are handling large amounts of data, these speed gains can really affect the time it takes to complete tasks. It has a second benefit that we will cover at the end of the chapter in the section on deep versus shallow copying. First lets get through all the ways to get data out, we have one left."
   ]
  },
  {
   "cell_type": "markdown",
   "metadata": {},
   "source": [
    "## Returning a slice of data \n",
    "\n",
    "The last way of returning data that we should cover is a slice. Slices are incredibly useful for answering questions about data. They allow us powerful ways to filter the data in a DataFrame. There are multiple ways to slice up data in a DataFrame. \n",
    "\n",
    "### Slicing by position \n",
    "You can use the colon (```:```) to indicate a range of elements. For example, ```muppetdf.iloc[2:]``` will get all the rows from position two onwards. Putting a number after the column would be the position up to, but not including. So ```muppetdf.iloc[:2]``` will get all the rows up to but not including Gonzo in position 2. \n",
    "\n",
    "### Boolean slicing\n",
    "Recall above that we could filter a series using a boolean indexer? DataFrames work the same way. You can evaluate against a column of data and it will return the rows that fit the criteria. So, in our table we could ask for Muppets that are male or Muppets that first appeared after 1967. This means we first focus on a column and ask whether that column meets some criteria. This becomes a series of ```True```, ```False``` statements. If the row corresponds to a ```True``` statement, it is kept. Observe: "
   ]
  },
  {
   "cell_type": "code",
   "execution_count": 79,
   "metadata": {},
   "outputs": [
    {
     "data": {
      "text/plain": [
       "Kermit        False\n",
       "Miss Piggy     True\n",
       "Gonzo          True\n",
       "Name: MuppetYear, dtype: bool"
      ]
     },
     "execution_count": 79,
     "metadata": {},
     "output_type": "execute_result"
    }
   ],
   "source": [
    "muppetdf[\"MuppetYear\"] > 1967"
   ]
  },
  {
   "cell_type": "code",
   "execution_count": 80,
   "metadata": {},
   "outputs": [
    {
     "data": {
      "text/html": [
       "<div>\n",
       "<style scoped>\n",
       "    .dataframe tbody tr th:only-of-type {\n",
       "        vertical-align: middle;\n",
       "    }\n",
       "\n",
       "    .dataframe tbody tr th {\n",
       "        vertical-align: top;\n",
       "    }\n",
       "\n",
       "    .dataframe thead th {\n",
       "        text-align: right;\n",
       "    }\n",
       "</style>\n",
       "<table border=\"1\" class=\"dataframe\">\n",
       "  <thead>\n",
       "    <tr style=\"text-align: right;\">\n",
       "      <th></th>\n",
       "      <th>MuppetType</th>\n",
       "      <th>MuppetYear</th>\n",
       "      <th>MuppetGender</th>\n",
       "      <th>MuppetDecade</th>\n",
       "    </tr>\n",
       "  </thead>\n",
       "  <tbody>\n",
       "    <tr>\n",
       "      <th>Miss Piggy</th>\n",
       "      <td>Pig</td>\n",
       "      <td>1974</td>\n",
       "      <td>female</td>\n",
       "      <td>1970</td>\n",
       "    </tr>\n",
       "    <tr>\n",
       "      <th>Gonzo</th>\n",
       "      <td>booger</td>\n",
       "      <td>1970</td>\n",
       "      <td>male</td>\n",
       "      <td>1970</td>\n",
       "    </tr>\n",
       "  </tbody>\n",
       "</table>\n",
       "</div>"
      ],
      "text/plain": [
       "           MuppetType  MuppetYear MuppetGender  MuppetDecade\n",
       "Miss Piggy        Pig        1974       female          1970\n",
       "Gonzo          booger        1970         male          1970"
      ]
     },
     "execution_count": 80,
     "metadata": {},
     "output_type": "execute_result"
    }
   ],
   "source": [
    "muppetdf[muppetdf[\"MuppetYear\"] > 1967]"
   ]
  },
  {
   "cell_type": "markdown",
   "metadata": {},
   "source": [
    "The boolean query itself just returned a Series of ```True```/ ```False``` elements with an index that corresponds to the DataFrame. We then pipe this into an indexer and out comes only the rows that were true: Miss Piggy, who first appeared in 1974 and Gonzo who first appeared in 1970."
   ]
  },
  {
   "cell_type": "markdown",
   "metadata": {},
   "source": [
    "## Deep Copies versus Shallow Copies\n",
    "\n",
    "When we ask for data from python, sometimes it will give us a 'view' of the original data, this is a \"shallow copy\". Sometimes it will copy the data to a new location and then return that newly copied data, this is a \"deep copy\". Understanding when this happens can help for two issues we will encounter when we have to manage larger data sets: \n",
    "1. Deep copies need their own memory space in the computer since they are now completely different DataFrames.\n",
    "2. Altering or deleting data can lead to mishaps when changing data on a subset or copy of the data actually changes the original data. \n",
    "3. Altering can also lead to accidents or warnings when you try to change the original data but actually end up working on a copy. \n",
    "\n",
    "See in this code here what happens when we try to change the value of Gonzo's type from \"unknown\" to \"weirdo\". \n"
   ]
  },
  {
   "cell_type": "code",
   "execution_count": 86,
   "metadata": {},
   "outputs": [
    {
     "name": "stderr",
     "output_type": "stream",
     "text": [
      "/Users/crafty/anaconda3/lib/python3.7/site-packages/ipykernel_launcher.py:1: SettingWithCopyWarning: \n",
      "A value is trying to be set on a copy of a slice from a DataFrame\n",
      "\n",
      "See the caveats in the documentation: http://pandas.pydata.org/pandas-docs/stable/indexing.html#indexing-view-versus-copy\n",
      "  \"\"\"Entry point for launching an IPython kernel.\n"
     ]
    }
   ],
   "source": [
    "# Attempt 1 (which will fail)\n",
    "muppetdf.loc[\"Gonzo\"][\"MuppetType\"] = \"weirdo\""
   ]
  },
  {
   "cell_type": "code",
   "execution_count": 1,
   "metadata": {},
   "outputs": [
    {
     "ename": "NameError",
     "evalue": "name 'muppetdf' is not defined",
     "output_type": "error",
     "traceback": [
      "\u001b[0;31m---------------------------------------------------------------------------\u001b[0m",
      "\u001b[0;31mNameError\u001b[0m                                 Traceback (most recent call last)",
      "\u001b[0;32m<ipython-input-1-9b3a1d069667>\u001b[0m in \u001b[0;36m<module>\u001b[0;34m\u001b[0m\n\u001b[1;32m      1\u001b[0m \u001b[0;31m# Attempt 2 (which will succeed)\u001b[0m\u001b[0;34m\u001b[0m\u001b[0;34m\u001b[0m\u001b[0;34m\u001b[0m\u001b[0m\n\u001b[0;32m----> 2\u001b[0;31m \u001b[0mmuppetdf\u001b[0m\u001b[0;34m.\u001b[0m\u001b[0mloc\u001b[0m\u001b[0;34m[\u001b[0m\u001b[0;34m\"Gonzo\"\u001b[0m\u001b[0;34m,\u001b[0m\u001b[0;34m\"MuppetType\"\u001b[0m\u001b[0;34m]\u001b[0m \u001b[0;34m=\u001b[0m \u001b[0;34m\"Weirdo\"\u001b[0m\u001b[0;34m\u001b[0m\u001b[0;34m\u001b[0m\u001b[0m\n\u001b[0m",
      "\u001b[0;31mNameError\u001b[0m: name 'muppetdf' is not defined"
     ]
    }
   ],
   "source": [
    "# Attempt 2 (which will succeed)\n",
    "muppetdf.loc[\"Gonzo\",\"MuppetType\"] = \"Weirdo\""
   ]
  },
  {
   "cell_type": "markdown",
   "metadata": {},
   "source": [
    "In the first instance, what happened was that ```mupetdf.loc[\"Gonzo\"]``` is one query that first created a slice. Then [\"MuppetType\"] was a subquery. So then when we assign a new value, the program was about to change the value of this newly created slice, not the value in the origianl ```muppetdf```. So it threw an error. In the second one, we queried that cell directly and changed the object in the cell from ```\"unknown\"``` to ```\"Weirdo\"```.\n",
    "\n",
    "The original query failed because we created a deep copy by accident. We can see this error work the other way as well, that is, when we give the DataFrame a new label but we are actually changing the original DataFrame. That can be especially dangerous because it won't throw an error, it will just change the data. Observe: "
   ]
  },
  {
   "cell_type": "code",
   "execution_count": 93,
   "metadata": {},
   "outputs": [
    {
     "data": {
      "text/plain": [
       "'Lizard'"
      ]
     },
     "metadata": {},
     "output_type": "display_data"
    }
   ],
   "source": [
    "newmuppetdf = muppetdf\n",
    "\n",
    "newmuppetdf.loc[\"Kermit\",\"MuppetType\"] = \"Lizard\" #change in newmuppetdf\n",
    "\n",
    "display(muppetdf.loc[\"Kermit\",\"MuppetType\"]) #it appears in original muppetdf"
   ]
  },
  {
   "cell_type": "markdown",
   "metadata": {},
   "source": [
    "Above what happened is we just renamed the original DataFrame. One way to ensure that a newly assigned DataFrame is a copy is to use the ```copy()``` method directly, as in ```newmuppetdf = muppetdf.copy()```. There are other instances where you should be careful about deep versus shallow copies. For now, we can only introduce the topic. Instead of trying to master this right now, I recommend simply being really careful with your data, and checking it at each step. It is easy to have a sneaky error propagate its way through your entire code. Practising _data skepticism_ is critical here. We will say more about this in the chapter on exploring data. "
   ]
  },
  {
   "cell_type": "markdown",
   "metadata": {},
   "source": [
    "# Summary: DataFrames\n",
    "    \n",
    "The DataFrame is a staple of data science and thus social data science. A surprising amount of what is done in data science can be described as getting the right data into a DataFrame from another shape, and aligning that data with other data that we might want to use. The DataFrame allows us to filter, make comparisons, and produce visualisations, both static charts and interactive diagrams. \n",
    "\n",
    "The exercise sheet for this chapter focuses on a lot of little exercises to practice building, altering, and querying DataFrames. In the next chapter I will show you how to transform a number of common data structures into a DataFrame. These structures are pervasive on the web. For example, if you want data from Wikipedia, Facebook, Twitter, Reddit, Tumblr, or Google, you'll be reciving data in formats like XML and JSON. They do not look like a DataFrame, but with a little care we can import them into DataFrames and then start asking questions about the data.    \n"
   ]
  }
 ],
 "metadata": {
  "kernelspec": {
   "display_name": "Python 3",
   "language": "python",
   "name": "python3"
  },
  "language_info": {
   "codemirror_mode": {
    "name": "ipython",
    "version": 3
   },
   "file_extension": ".py",
   "mimetype": "text/x-python",
   "name": "python",
   "nbconvert_exporter": "python",
   "pygments_lexer": "ipython3",
   "version": "3.7.3"
  },
  "toc-autonumbering": true,
  "toc-showcode": false,
  "toc-showmarkdowntxt": false,
  "toc-showtags": false
 },
 "nbformat": 4,
 "nbformat_minor": 4
}
